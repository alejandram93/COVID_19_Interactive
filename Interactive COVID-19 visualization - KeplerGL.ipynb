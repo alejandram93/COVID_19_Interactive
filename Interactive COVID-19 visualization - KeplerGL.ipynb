{
 "cells": [
  {
   "cell_type": "markdown",
   "metadata": {},
   "source": [
    "To install libraries: pip install --user --trusted-host files.pythonhosted.org --trusted-host pypi.org xxxx"
   ]
  },
  {
   "cell_type": "code",
   "execution_count": 7,
   "metadata": {},
   "outputs": [],
   "source": [
    "import pandas as pd\n",
    "from keplergl import KeplerGl"
   ]
  },
  {
   "cell_type": "code",
   "execution_count": 13,
   "metadata": {},
   "outputs": [
    {
     "data": {
      "text/html": [
       "<div>\n",
       "<style scoped>\n",
       "    .dataframe tbody tr th:only-of-type {\n",
       "        vertical-align: middle;\n",
       "    }\n",
       "\n",
       "    .dataframe tbody tr th {\n",
       "        vertical-align: top;\n",
       "    }\n",
       "\n",
       "    .dataframe thead th {\n",
       "        text-align: right;\n",
       "    }\n",
       "</style>\n",
       "<table border=\"1\" class=\"dataframe\">\n",
       "  <thead>\n",
       "    <tr style=\"text-align: right;\">\n",
       "      <th></th>\n",
       "      <th>Location</th>\n",
       "      <th>Address</th>\n",
       "      <th>Latitude</th>\n",
       "      <th>Longitude</th>\n",
       "      <th>Dates</th>\n",
       "      <th>Date_1</th>\n",
       "      <th>Time_start_1</th>\n",
       "      <th>Time_end_1</th>\n",
       "      <th>Date_2</th>\n",
       "      <th>Time_start_2</th>\n",
       "      <th>...</th>\n",
       "      <th>Date_10</th>\n",
       "      <th>Date_11</th>\n",
       "      <th>Date_12</th>\n",
       "      <th>Date_13</th>\n",
       "      <th>Date_14</th>\n",
       "      <th>Date_15</th>\n",
       "      <th>Action</th>\n",
       "      <th>Status</th>\n",
       "      <th>Date_Status_Current</th>\n",
       "      <th>Date_Status_Expired</th>\n",
       "    </tr>\n",
       "  </thead>\n",
       "  <tbody>\n",
       "    <tr>\n",
       "      <th>0</th>\n",
       "      <td>Adamstown: St Pius X High School</td>\n",
       "      <td>Park Ave, Adamstown NSW 2289</td>\n",
       "      <td>-32.936923</td>\n",
       "      <td>151.714893</td>\n",
       "      <td>Monday 3 August</td>\n",
       "      <td>3/08/2020</td>\n",
       "      <td>NaN</td>\n",
       "      <td>NaN</td>\n",
       "      <td>NaN</td>\n",
       "      <td>NaN</td>\n",
       "      <td>...</td>\n",
       "      <td>NaN</td>\n",
       "      <td>NaN</td>\n",
       "      <td>NaN</td>\n",
       "      <td>NaN</td>\n",
       "      <td>NaN</td>\n",
       "      <td>NaN</td>\n",
       "      <td>Monitor for symptoms</td>\n",
       "      <td>Expired</td>\n",
       "      <td>3/08/2020</td>\n",
       "      <td>18/08/2020</td>\n",
       "    </tr>\n",
       "    <tr>\n",
       "      <th>1</th>\n",
       "      <td>Albion Park: C1 Speed Indoor Karting</td>\n",
       "      <td>176-178 Princes Highway, Hargraves Ave, Albion...</td>\n",
       "      <td>-34.561620</td>\n",
       "      <td>150.795619</td>\n",
       "      <td>6pm to 7pm on Saturday 11 July</td>\n",
       "      <td>11/07/2020</td>\n",
       "      <td>18:00</td>\n",
       "      <td>19:00</td>\n",
       "      <td>NaN</td>\n",
       "      <td>NaN</td>\n",
       "      <td>...</td>\n",
       "      <td>NaN</td>\n",
       "      <td>NaN</td>\n",
       "      <td>NaN</td>\n",
       "      <td>NaN</td>\n",
       "      <td>NaN</td>\n",
       "      <td>NaN</td>\n",
       "      <td>Monitor for symptoms</td>\n",
       "      <td>Expired</td>\n",
       "      <td>11/07/2020</td>\n",
       "      <td>26/07/2020</td>\n",
       "    </tr>\n",
       "    <tr>\n",
       "      <th>2</th>\n",
       "      <td>Albion Park: McDonalds</td>\n",
       "      <td>251 Princes Hwy, Albion Park NSW 2527</td>\n",
       "      <td>-34.567215</td>\n",
       "      <td>150.803027</td>\n",
       "      <td>2pm to 2:30pm on Wednesday 15 July</td>\n",
       "      <td>15/07/2020</td>\n",
       "      <td>14:00</td>\n",
       "      <td>14:30</td>\n",
       "      <td>NaN</td>\n",
       "      <td>NaN</td>\n",
       "      <td>...</td>\n",
       "      <td>NaN</td>\n",
       "      <td>NaN</td>\n",
       "      <td>NaN</td>\n",
       "      <td>NaN</td>\n",
       "      <td>NaN</td>\n",
       "      <td>NaN</td>\n",
       "      <td>Monitor for symptoms</td>\n",
       "      <td>Expired</td>\n",
       "      <td>15/07/2020</td>\n",
       "      <td>30/07/2020</td>\n",
       "    </tr>\n",
       "    <tr>\n",
       "      <th>3</th>\n",
       "      <td>Ashfield: New Shanghai Night restaurant</td>\n",
       "      <td>267c Liverpool Rd, Ashfield NSW 2131</td>\n",
       "      <td>-33.888329</td>\n",
       "      <td>151.124402</td>\n",
       "      <td>6:30pm to 8pm on Friday 4 September</td>\n",
       "      <td>4/09/2020</td>\n",
       "      <td>18:30</td>\n",
       "      <td>20:00</td>\n",
       "      <td>NaN</td>\n",
       "      <td>NaN</td>\n",
       "      <td>...</td>\n",
       "      <td>NaN</td>\n",
       "      <td>NaN</td>\n",
       "      <td>NaN</td>\n",
       "      <td>NaN</td>\n",
       "      <td>NaN</td>\n",
       "      <td>NaN</td>\n",
       "      <td>Self-isolate and get tested immediately</td>\n",
       "      <td>Expired</td>\n",
       "      <td>4/09/2020</td>\n",
       "      <td>19/09/2020</td>\n",
       "    </tr>\n",
       "    <tr>\n",
       "      <th>4</th>\n",
       "      <td>Ashfield: The Crocodile Farm Hotel</td>\n",
       "      <td>262 Liverpool Rd, Ashfield NSW 2131</td>\n",
       "      <td>-33.888420</td>\n",
       "      <td>151.123999</td>\n",
       "      <td>5:30pm to 6:30pm on Friday 4 September</td>\n",
       "      <td>4/09/2020</td>\n",
       "      <td>17:30</td>\n",
       "      <td>18:30</td>\n",
       "      <td>NaN</td>\n",
       "      <td>NaN</td>\n",
       "      <td>...</td>\n",
       "      <td>NaN</td>\n",
       "      <td>NaN</td>\n",
       "      <td>NaN</td>\n",
       "      <td>NaN</td>\n",
       "      <td>NaN</td>\n",
       "      <td>NaN</td>\n",
       "      <td>Self-isolate and get tested immediately</td>\n",
       "      <td>Expired</td>\n",
       "      <td>4/09/2020</td>\n",
       "      <td>19/09/2020</td>\n",
       "    </tr>\n",
       "  </tbody>\n",
       "</table>\n",
       "<p>5 rows × 42 columns</p>\n",
       "</div>"
      ],
      "text/plain": [
       "                                  Location  \\\n",
       "0         Adamstown: St Pius X High School   \n",
       "1     Albion Park: C1 Speed Indoor Karting   \n",
       "2                   Albion Park: McDonalds   \n",
       "3  Ashfield: New Shanghai Night restaurant   \n",
       "4       Ashfield: The Crocodile Farm Hotel   \n",
       "\n",
       "                                             Address   Latitude   Longitude  \\\n",
       "0                       Park Ave, Adamstown NSW 2289 -32.936923  151.714893   \n",
       "1  176-178 Princes Highway, Hargraves Ave, Albion... -34.561620  150.795619   \n",
       "2              251 Princes Hwy, Albion Park NSW 2527 -34.567215  150.803027   \n",
       "3               267c Liverpool Rd, Ashfield NSW 2131 -33.888329  151.124402   \n",
       "4                262 Liverpool Rd, Ashfield NSW 2131 -33.888420  151.123999   \n",
       "\n",
       "                                    Dates      Date_1 Time_start_1 Time_end_1  \\\n",
       "0                         Monday 3 August   3/08/2020          NaN        NaN   \n",
       "1          6pm to 7pm on Saturday 11 July  11/07/2020        18:00      19:00   \n",
       "2      2pm to 2:30pm on Wednesday 15 July  15/07/2020        14:00      14:30   \n",
       "3     6:30pm to 8pm on Friday 4 September   4/09/2020        18:30      20:00   \n",
       "4  5:30pm to 6:30pm on Friday 4 September   4/09/2020        17:30      18:30   \n",
       "\n",
       "  Date_2 Time_start_2  ... Date_10 Date_11 Date_12 Date_13 Date_14 Date_15  \\\n",
       "0    NaN          NaN  ...     NaN     NaN     NaN     NaN     NaN     NaN   \n",
       "1    NaN          NaN  ...     NaN     NaN     NaN     NaN     NaN     NaN   \n",
       "2    NaN          NaN  ...     NaN     NaN     NaN     NaN     NaN     NaN   \n",
       "3    NaN          NaN  ...     NaN     NaN     NaN     NaN     NaN     NaN   \n",
       "4    NaN          NaN  ...     NaN     NaN     NaN     NaN     NaN     NaN   \n",
       "\n",
       "                                    Action   Status Date_Status_Current  \\\n",
       "0                     Monitor for symptoms  Expired           3/08/2020   \n",
       "1                     Monitor for symptoms  Expired          11/07/2020   \n",
       "2                     Monitor for symptoms  Expired          15/07/2020   \n",
       "3  Self-isolate and get tested immediately  Expired           4/09/2020   \n",
       "4  Self-isolate and get tested immediately  Expired           4/09/2020   \n",
       "\n",
       "  Date_Status_Expired  \n",
       "0          18/08/2020  \n",
       "1          26/07/2020  \n",
       "2          30/07/2020  \n",
       "3          19/09/2020  \n",
       "4          19/09/2020  \n",
       "\n",
       "[5 rows x 42 columns]"
      ]
     },
     "execution_count": 13,
     "metadata": {},
     "output_type": "execute_result"
    }
   ],
   "source": [
    "data_path = \"/Users/mor96198/Kaggle/\"\n",
    "location = pd.read_csv(f\"{data_path}/c19_location_09.24.csv\")\n",
    "location.rename(columns={\"lat\":\"Latitude\",'long':\"Longitude\"}, inplace=True)\n",
    "location.head()"
   ]
  },
  {
   "cell_type": "markdown",
   "metadata": {},
   "source": [
    "# Set up Map"
   ]
  },
  {
   "cell_type": "code",
   "execution_count": 24,
   "metadata": {},
   "outputs": [
    {
     "name": "stdout",
     "output_type": "stream",
     "text": [
      "User Guide: https://docs.kepler.gl/docs/keplergl-jupyter\n"
     ]
    }
   ],
   "source": [
    "# Load an empty map\n",
    "from keplergl import KeplerGl\n",
    "map_1 = KeplerGl()\n",
    "map_1.add_data(data=location, name='Location NSW')\n",
    "#map_1.config = config"
   ]
  },
  {
   "cell_type": "code",
   "execution_count": 16,
   "metadata": {
    "scrolled": true
   },
   "outputs": [
    {
     "data": {
      "application/vnd.jupyter.widget-view+json": {
       "model_id": "e3cbe3b8f703492e87d20319ce223acc",
       "version_major": 2,
       "version_minor": 0
      },
      "text/plain": [
       "KeplerGl(data={'Location NSW': {'index': [0, 1, 2, 3, 4, 5, 6, 7, 8, 9, 10, 11, 12, 13, 14, 15, 16, 17, 18, 19…"
      ]
     },
     "metadata": {},
     "output_type": "display_data"
    }
   ],
   "source": [
    "map_1"
   ]
  },
  {
   "cell_type": "code",
   "execution_count": 17,
   "metadata": {
    "scrolled": true
   },
   "outputs": [
    {
     "name": "stdout",
     "output_type": "stream",
     "text": [
      "Map saved to my_keplergl_map.html!\n"
     ]
    }
   ],
   "source": [
    "map_1.save_to_html(file_name=\"my_keplergl_map.html\")"
   ]
  },
  {
   "cell_type": "code",
   "execution_count": null,
   "metadata": {},
   "outputs": [],
   "source": []
  }
 ],
 "metadata": {
  "kernelspec": {
   "display_name": "Python 3",
   "language": "python",
   "name": "python3"
  },
  "language_info": {
   "codemirror_mode": {
    "name": "ipython",
    "version": 3
   },
   "file_extension": ".py",
   "mimetype": "text/x-python",
   "name": "python",
   "nbconvert_exporter": "python",
   "pygments_lexer": "ipython3",
   "version": "3.7.9"
  }
 },
 "nbformat": 4,
 "nbformat_minor": 4
}
